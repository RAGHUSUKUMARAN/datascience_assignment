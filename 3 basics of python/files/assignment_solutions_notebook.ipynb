{
 "cells": [
  {
   "cell_type": "markdown",
   "id": "17c8f026",
   "metadata": {},
   "source": [
    "# Python Programming Assignment — Solutions (Notebook)\n",
    "\n",
    "This notebook contains solutions to the five exercises. Each exercise is placed in its own code cell with brief headers."
   ]
  },
  {
   "cell_type": "code",
   "execution_count": null,
   "id": "64c8ecff",
   "metadata": {},
   "outputs": [],
   "source": [
    "# Exercise 1: Prime Numbers\n",
    "def is_prime(n):\n",
    "    if n <= 1:\n",
    "        return False\n",
    "    if n <= 3:\n",
    "        return True\n",
    "    if n % 2 == 0:\n",
    "        return False\n",
    "    i = 3\n",
    "    while i * i <= n:\n",
    "        if n % i == 0:\n",
    "            return False\n",
    "        i += 2\n",
    "    return True\n",
    "\n",
    "# Examples\n",
    "print(\"2 ->\", is_prime(2))\n",
    "print(\"15 ->\", is_prime(15))\n",
    "print(\"97 ->\", is_prime(97))"
   ]
  },
  {
   "cell_type": "code",
   "execution_count": null,
   "id": "cdf720ca",
   "metadata": {},
   "outputs": [],
   "source": [
    "# Exercise 2: Product of Random Numbers\n",
    "import random\n",
    "\n",
    "def quiz_product():\n",
    "    a = random.randint(2, 12)\n",
    "    b = random.randint(2, 12)\n",
    "    correct = a * b\n",
    "    print(f\"What is the product of {a} and {b}?\")\n",
    "    ans = int(input(\"Your answer: \").strip())\n",
    "    if ans == correct:\n",
    "        print(\"Correct! 🎉\")\n",
    "    else:\n",
    "        print(f\"Incorrect. The correct answer is {correct}.\")\n",
    "\n",
    "# To run interactively, execute the next line:\n",
    "# quiz_product()"
   ]
  },
  {
   "cell_type": "code",
   "execution_count": null,
   "id": "cd732ba7",
   "metadata": {},
   "outputs": [],
   "source": [
    "# Exercise 3: Squares of Even Numbers (100–200)\n",
    "def squares_even_100_200():\n",
    "    result = {}\n",
    "    for x in range(100, 201):\n",
    "        if x % 2 == 0:\n",
    "            result[x] = x * x\n",
    "    return result\n",
    "\n",
    "squares = squares_even_100_200()\n",
    "print(\"First 10 entries:\")\n",
    "for i, (k, v) in enumerate(squares.items()):\n",
    "    print(k, \"->\", v)\n",
    "    if i >= 9:\n",
    "        break"
   ]
  },
  {
   "cell_type": "code",
   "execution_count": null,
   "id": "0ad01b25",
   "metadata": {},
   "outputs": [],
   "source": [
    "# Exercise 4: Word Counter\n",
    "from collections import Counter\n",
    "\n",
    "def word_counter(text):\n",
    "    words = text.split()\n",
    "    return Counter(words)\n",
    "\n",
    "input_text = \"This is a sample text. This text will be used to demonstrate the word counter.\"\n",
    "counts = word_counter(input_text)\n",
    "for word, cnt in counts.items():\n",
    "    print(f\"'{word}': {cnt}\")"
   ]
  },
  {
   "cell_type": "code",
   "execution_count": null,
   "id": "7de0bdd1",
   "metadata": {},
   "outputs": [],
   "source": [
    "# Exercise 5: Palindrome Checker\n",
    "import re\n",
    "\n",
    "def is_palindrome(s):\n",
    "    cleaned = re.sub(r'[^A-Za-z0-9]', '', s).lower()\n",
    "    return cleaned == cleaned[::-1]\n",
    "\n",
    "print('\"racecar\" ->', is_palindrome(\"racecar\"))\n",
    "print('\"A man, a plan, a canal: Panama\" ->', is_palindrome(\"A man, a plan, a canal: Panama\"))\n",
    "print('\"hello\" ->', is_palindrome(\"hello\"))"
   ]
  },
  {
   "cell_type": "markdown",
   "id": "e90db0a3",
   "metadata": {},
   "source": [
    "### Notes\n",
    "- Exercise 2 uses `input()`; run that cell interactively to play the quiz.\n",
    "- The word counter preserves punctuation attached to words as requested.\n",
    "- Palindrome checker ignores non-alphanumeric characters and is case-insensitive."
   ]
  }
 ],
 "metadata": {},
 "nbformat": 4,
 "nbformat_minor": 5
}
