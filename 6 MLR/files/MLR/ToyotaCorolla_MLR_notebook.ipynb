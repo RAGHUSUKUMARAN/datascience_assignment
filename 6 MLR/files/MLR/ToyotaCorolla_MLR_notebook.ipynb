{
 "cells": [
  {
   "cell_type": "markdown",
   "id": "1f75ca79",
   "metadata": {},
   "source": [
    "# Multiple Linear Regression — Toyota Corolla\n",
    "\n",
    "This notebook performs EDA, preprocessing, trains multiple linear regression models, evaluates them, and applies Ridge/Lasso regularization. Update `DATA_PATH` if needed."
   ]
  },
  {
   "cell_type": "code",
   "execution_count": null,
   "id": "1f4ddd22",
   "metadata": {},
   "outputs": [],
   "source": [
    "# Configuration & Imports\n",
    "import warnings\n",
    "warnings.filterwarnings(\"ignore\")\n",
    "\n",
    "%pip install scikit-learn\n",
    "\n",
    "import numpy as np, pandas as pd, matplotlib.pyplot as plt, seaborn as sns\n",
    "from sklearn.model_selection import train_test_split\n",
    "from sklearn.preprocessing import StandardScaler\n",
    "from sklearn.linear_model import RidgeCV, LassoCV, LinearRegression\n",
    "from sklearn.metrics import mean_absolute_error, mean_squared_error, r2_score\n",
    "import statsmodels.api as sm\n",
    "\n",
    "DATA_PATH = r\"/mnt/data/ToyotaCorolla - MLR.csv\"  # change to your file path (e.g., r\"D:\\...\")\n",
    "df = pd.read_csv(DATA_PATH)\n",
    "df.head()"
   ]
  },
  {
   "cell_type": "code",
   "execution_count": null,
   "id": "5f233e50",
   "metadata": {},
   "outputs": [],
   "source": [
    "# Quick EDA\n",
    "print(\"Shape:\", df.shape)\n",
    "display(df.describe().T)\n",
    "# Pairplot commented (may be heavy)\n",
    "# sns.pairplot(df.sample(200))"
   ]
  },
  {
   "cell_type": "code",
   "execution_count": null,
   "id": "581cbdac",
   "metadata": {},
   "outputs": [],
   "source": [
    "# Preprocessing example: encode FuelType, ensure numeric types\n",
    "df['Doors'] = pd.to_numeric(df['Doors'], errors='coerce')\n",
    "df['Automatic'] = df['Automatic'].replace({'Yes':1,'No':0}).fillna(df['Automatic'])\n",
    "df = df.dropna(subset=['Price'])\n",
    "df['Automatic'] = pd.to_numeric(df['Automatic'], errors='coerce').fillna(0).astype(int)\n",
    "X = df[['Age','KM','HP','Automatic','CC','Doors','Weight','Quarterly_Tax']].copy()\n",
    "if 'FuelType' in df.columns:\n",
    "    X = pd.get_dummies(pd.concat([X, df[['FuelType']]], axis=1), columns=['FuelType'], drop_first=True)\n",
    "y = df['Price']"
   ]
  },
  {
   "cell_type": "code",
   "execution_count": null,
   "id": "2c3d6299",
   "metadata": {},
   "outputs": [],
   "source": [
    "# Train-test split\n",
    "X_train, X_test, y_train, y_test = train_test_split(X, y, test_size=0.2, random_state=42)\n",
    "\n",
    "# Baseline OLS using statsmodels\n",
    "X_train_sm = sm.add_constant(X_train)\n",
    "model_ols = sm.OLS(y_train, X_train_sm).fit()\n",
    "print(model_ols.summary())\n",
    "\n",
    "# Evaluate on test\n",
    "X_test_sm = sm.add_constant(X_test)\n",
    "y_pred = model_ols.predict(X_test_sm)\n",
    "print(\"MAE:\", mean_absolute_error(y_test, y_pred))\n",
    "print(\"RMSE:\", mean_squared_error(y_test, y_pred, squared=False))\n",
    "print(\"R2:\", r2_score(y_test, y_pred))"
   ]
  },
  {
   "cell_type": "code",
   "execution_count": null,
   "id": "4d8a0a64",
   "metadata": {},
   "outputs": [],
   "source": [
    "# RidgeCV and LassoCV (with scaling)\n",
    "scaler = StandardScaler()\n",
    "X_train_s = scaler.fit_transform(X_train)\n",
    "X_test_s = scaler.transform(X_test)\n",
    "\n",
    "ridge = RidgeCV(alphas=np.logspace(-3,3,50), cv=5).fit(X_train_s, y_train)\n",
    "print(\"Ridge alpha:\", ridge.alpha_)\n",
    "y_ridge = ridge.predict(X_test_s)\n",
    "print(\"Ridge RMSE:\", mean_squared_error(y_test, y_ridge, squared=False))\n",
    "\n",
    "lasso = LassoCV(cv=5, random_state=42, max_iter=5000).fit(X_train_s, y_train)\n",
    "print(\"Lasso alpha:\", lasso.alpha_)\n",
    "y_lasso = lasso.predict(X_test_s)\n",
    "print(\"Lasso RMSE:\", mean_squared_error(y_test, y_lasso, squared=False))"
   ]
  },
  {
   "cell_type": "markdown",
   "id": "2bedc71f",
   "metadata": {},
   "source": [
    "## End of notebook"
   ]
  }
 ],
 "metadata": {
  "kernelspec": {
   "display_name": ".venv",
   "language": "python",
   "name": "python3"
  },
  "language_info": {
   "codemirror_mode": {
    "name": "ipython",
    "version": 3
   },
   "file_extension": ".py",
   "mimetype": "text/x-python",
   "name": "python",
   "nbconvert_exporter": "python",
   "pygments_lexer": "ipython3",
   "version": "3.11.9"
  }
 },
 "nbformat": 4,
 "nbformat_minor": 5
}
